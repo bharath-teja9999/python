{
 "cells": [
  {
   "cell_type": "code",
   "execution_count": null,
   "metadata": {},
   "outputs": [],
   "source": [
    "# \n",
    "1.Define python\n",
    "2.create five valide variables and invalid variables\n",
    "3.define the list.\n",
    "4.creat list with 10 items.\n",
    "5.acess it one by one."
   ]
  },
  {
   "cell_type": "code",
   "execution_count": null,
   "metadata": {},
   "outputs": [],
   "source": [
    "##\n",
    "python:\n",
    "\n",
    "Python is a popular programming language.And its syntax is easy when compare to other programming languages.\n",
    "python is invented inn 1991.python is used to creat web applications for example:Dashboards.\n",
    "    "
   ]
  },
  {
   "cell_type": "code",
   "execution_count": 28,
   "metadata": {},
   "outputs": [],
   "source": [
    "##valid variables\n",
    "a = 10\n",
    "Name = \"bharath\"\n",
    "last_name = 'alla'\n",
    "b_13 = 67\n",
    "__python__ = 1991"
   ]
  },
  {
   "cell_type": "code",
   "execution_count": 38,
   "metadata": {},
   "outputs": [],
   "source": [
    "##invalid variables\n",
    "na$me = 34\n",
    "2name = 'bharath'\n",
    "^percent = 100\n",
    "&name = \"teja\""
   ]
  },
  {
   "cell_type": "code",
   "execution_count": null,
   "metadata": {},
   "outputs": [],
   "source": [
    "##\n",
    "list:\n",
    "list is a datatype in python programming language.\n",
    "and list is mutable.\n",
    "mutable means we can change the values in side the bracket.\n",
    "list uses square brackets.\n",
    "list can store more amount of data.\n",
    "list has linked list."
   ]
  },
  {
   "cell_type": "code",
   "execution_count": 96,
   "metadata": {},
   "outputs": [
    {
     "name": "stdout",
     "output_type": "stream",
     "text": [
      "[1, 2, 3, 4, 5, 6, 7, 8, 'bharath', 2.3]\n"
     ]
    }
   ],
   "source": [
    "## List\n",
    "a = [1,2,3,4,5,6,7,8,'bharath',2.3]\n",
    "print(a)"
   ]
  },
  {
   "cell_type": "code",
   "execution_count": 99,
   "metadata": {},
   "outputs": [
    {
     "name": "stdout",
     "output_type": "stream",
     "text": [
      "1\n",
      "2\n",
      "3\n",
      "4\n",
      "5\n",
      "6\n",
      "7\n",
      "8\n",
      "bharath\n"
     ]
    }
   ],
   "source": [
    "print(a[0])\n",
    "print(a[1])\n",
    "print(a[2])\n",
    "print(a[3])\n",
    "print(a[4])\n",
    "print(a[5])\n",
    "print(a[6])\n",
    "print(a[7])\n",
    "print(a[8])\n"
   ]
  },
  {
   "cell_type": "code",
   "execution_count": 100,
   "metadata": {},
   "outputs": [
    {
     "name": "stdout",
     "output_type": "stream",
     "text": [
      "2.3\n",
      "bharath\n",
      "8\n",
      "7\n",
      "6\n",
      "5\n",
      "4\n",
      "3\n"
     ]
    }
   ],
   "source": [
    "print(a[-1])\n",
    "print(a[-2])\n",
    "print(a[-3])\n",
    "print(a[-4])\n",
    "print(a[-5])\n",
    "print(a[-6])\n",
    "print(a[-7])\n",
    "print(a[-8])\n"
   ]
  },
  {
   "cell_type": "code",
   "execution_count": 58,
   "metadata": {},
   "outputs": [
    {
     "name": "stdout",
     "output_type": "stream",
     "text": [
      "[1, 2, 3, 45, 6, 7, 8, 'bharath', 2.3, 'teja']\n"
     ]
    }
   ],
   "source": [
    "a.append('teja')\n",
    "print(a)"
   ]
  },
  {
   "cell_type": "code",
   "execution_count": 59,
   "metadata": {},
   "outputs": [
    {
     "data": {
      "text/plain": [
       "7"
      ]
     },
     "execution_count": 59,
     "metadata": {},
     "output_type": "execute_result"
    }
   ],
   "source": [
    "a.index('bharath')"
   ]
  },
  {
   "cell_type": "code",
   "execution_count": 60,
   "metadata": {},
   "outputs": [
    {
     "name": "stdout",
     "output_type": "stream",
     "text": [
      "[1, 2, 3, 45, 6, 7, 8, 'bharath', 'teja']\n"
     ]
    }
   ],
   "source": [
    "a.pop(8)\n",
    "print(a)"
   ]
  },
  {
   "cell_type": "code",
   "execution_count": 72,
   "metadata": {},
   "outputs": [
    {
     "name": "stdout",
     "output_type": "stream",
     "text": [
      "(1, 23, 45, 67, 89, 100, 'srihith')\n"
     ]
    }
   ],
   "source": [
    "## tuple\n",
    "## tuple is immutable and it uses closed brackets\n",
    "b = (1,23,45,67,89,100,'srihith')\n",
    "print(b)"
   ]
  },
  {
   "cell_type": "code",
   "execution_count": 67,
   "metadata": {},
   "outputs": [
    {
     "data": {
      "text/plain": [
       "1"
      ]
     },
     "execution_count": 67,
     "metadata": {},
     "output_type": "execute_result"
    }
   ],
   "source": [
    "b.index(23)"
   ]
  },
  {
   "cell_type": "code",
   "execution_count": 71,
   "metadata": {},
   "outputs": [
    {
     "name": "stdout",
     "output_type": "stream",
     "text": [
      "bharath\n"
     ]
    }
   ],
   "source": [
    "## string \n",
    "# string is immutable and it uses quotes.\n",
    "#string uses three types of quotes '',\"\",\"\"\" \"\"\".\n",
    "name = 'bharath'\n",
    "print(name)"
   ]
  },
  {
   "cell_type": "code",
   "execution_count": 78,
   "metadata": {},
   "outputs": [],
   "source": [
    "## dictionaries\n",
    "# it uses curley brackets.\n",
    "# it has key value \n",
    "#combination of key-value is called item.\n",
    "x = {'name' : 'bharath',\n",
    "    'class' : 'cse-ds',\n",
    "    'rollno' : 222010326013,\n",
    "    'university' : 'gitam'}"
   ]
  },
  {
   "cell_type": "code",
   "execution_count": 83,
   "metadata": {},
   "outputs": [
    {
     "name": "stdout",
     "output_type": "stream",
     "text": [
      "bharath\n"
     ]
    }
   ],
   "source": [
    "print(x['name'])"
   ]
  },
  {
   "cell_type": "code",
   "execution_count": 86,
   "metadata": {},
   "outputs": [
    {
     "data": {
      "text/plain": [
       "dict_keys(['name', 'class', 'rollno', 'university'])"
      ]
     },
     "execution_count": 86,
     "metadata": {},
     "output_type": "execute_result"
    }
   ],
   "source": [
    "x.keys()"
   ]
  },
  {
   "cell_type": "code",
   "execution_count": 87,
   "metadata": {},
   "outputs": [
    {
     "data": {
      "text/plain": [
       "dict_values(['bharath', 'cse-ds', 222010326013, 'gitam'])"
      ]
     },
     "execution_count": 87,
     "metadata": {},
     "output_type": "execute_result"
    }
   ],
   "source": [
    "x.values()"
   ]
  },
  {
   "cell_type": "code",
   "execution_count": 88,
   "metadata": {},
   "outputs": [
    {
     "data": {
      "text/plain": [
       "dict_items([('name', 'bharath'), ('class', 'cse-ds'), ('rollno', 222010326013), ('university', 'gitam')])"
      ]
     },
     "execution_count": 88,
     "metadata": {},
     "output_type": "execute_result"
    }
   ],
   "source": [
    "x.items()"
   ]
  },
  {
   "cell_type": "code",
   "execution_count": 89,
   "metadata": {},
   "outputs": [],
   "source": [
    "y = {'name':'teja'}"
   ]
  },
  {
   "cell_type": "code",
   "execution_count": 91,
   "metadata": {},
   "outputs": [],
   "source": [
    "x.update(y)"
   ]
  },
  {
   "cell_type": "code",
   "execution_count": 92,
   "metadata": {},
   "outputs": [
    {
     "name": "stdout",
     "output_type": "stream",
     "text": [
      "{'name': 'teja', 'class': 'cse-ds', 'rollno': 222010326013, 'university': 'gitam'}\n"
     ]
    }
   ],
   "source": [
    "print(x)"
   ]
  },
  {
   "cell_type": "code",
   "execution_count": null,
   "metadata": {},
   "outputs": [],
   "source": []
  }
 ],
 "metadata": {
  "kernelspec": {
   "display_name": "Python 3",
   "language": "python",
   "name": "python3"
  },
  "language_info": {
   "codemirror_mode": {
    "name": "ipython",
    "version": 3
   },
   "file_extension": ".py",
   "mimetype": "text/x-python",
   "name": "python",
   "nbconvert_exporter": "python",
   "pygments_lexer": "ipython3",
   "version": "3.7.4"
  }
 },
 "nbformat": 4,
 "nbformat_minor": 2
}
