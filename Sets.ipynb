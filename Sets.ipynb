{
 "cells": [
  {
   "cell_type": "markdown",
   "metadata": {},
   "source": [
    "# Sets"
   ]
  },
  {
   "cell_type": "markdown",
   "metadata": {},
   "source": [
    "#### In python a set is a collection of unique elementes and it is defined using curley braces {} and seperated by commas(,).\n",
    "Sets are used to store multiple itemes in a single variable.\n",
    " \n",
    "Sets are unordered , mutable and don't allow duplicate.\n",
    "\n",
    "Sets provide a variety of methods for performing common set operations like union, intersection,difference and more.\n"
   ]
  },
  {
   "cell_type": "code",
   "execution_count": 5,
   "metadata": {},
   "outputs": [
    {
     "name": "stdout",
     "output_type": "stream",
     "text": [
      "{'alla', 'bharath', 'teja'}\n",
      "{1, 2, 67, 3, 9, 45, 89}\n"
     ]
    }
   ],
   "source": [
    "##creating sets with elements\n",
    "names = {'bharath','teja','alla'}\n",
    "print(names)\n",
    "\n",
    "##converting list into a sets\n",
    "numbers = [1,2,3,45,67,89,9]\n",
    "update_numbers_to_set = set(numbers)\n",
    "print(update_numbers_to_set)"
   ]
  },
  {
   "cell_type": "code",
   "execution_count": 6,
   "metadata": {},
   "outputs": [
    {
     "name": "stdout",
     "output_type": "stream",
     "text": [
      "{'alla', 'bharath', 'teja'}\n"
     ]
    }
   ],
   "source": [
    "##duplicate items in a set\n",
    "names = {'bharath','bharath','teja','alla','alla'}\n",
    "print(names)"
   ]
  },
  {
   "cell_type": "markdown",
   "metadata": {},
   "source": [
    "## Add and update set items in python\n",
    "Sets are mutable .However,since they are unordered , indexing has no meaning.\n",
    "\n",
    "we cannot access or change an element of a set using indexing or slicing. \n"
   ]
  },
  {
   "cell_type": "markdown",
   "metadata": {},
   "source": [
    "### Adding items to a set in python:\n",
    "In python we use the add() method to add an item to a set.\n"
   ]
  },
  {
   "cell_type": "code",
   "execution_count": 10,
   "metadata": {},
   "outputs": [
    {
     "name": "stdout",
     "output_type": "stream",
     "text": [
      "{1, 2, 3, 4, 5, 67, 23}\n"
     ]
    }
   ],
   "source": [
    "a = {1,2,3,4,5,67}\n",
    "b = a.add(23)\n",
    "print(a)"
   ]
  },
  {
   "cell_type": "markdown",
   "metadata": {},
   "source": [
    "### Update :\n",
    "The update() method is used to update the set with items other collection types (lists,tuples, sets,etc)"
   ]
  },
  {
   "cell_type": "code",
   "execution_count": 18,
   "metadata": {},
   "outputs": [
    {
     "name": "stdout",
     "output_type": "stream",
     "text": [
      "Final colleges for my btech : {'mgit', 'gitam', 'vignan', 'iit', 'cbit', 'nit'}\n"
     ]
    }
   ],
   "source": [
    "colleges = {'gitam','vignan','mgit','cbit'}\n",
    "updated_colleges = ['iit','nit']\n",
    "colleges.update(final_colleges)\n",
    "print(\"Final colleges for my btech :\", colleges)"
   ]
  },
  {
   "cell_type": "markdown",
   "metadata": {},
   "source": [
    "### Remove an element from a set:\n",
    "we use the discard() method to remove the specified element from a set."
   ]
  },
  {
   "cell_type": "code",
   "execution_count": 22,
   "metadata": {},
   "outputs": [
    {
     "name": "stdout",
     "output_type": "stream",
     "text": [
      "{'english', 'telugu'}\n"
     ]
    }
   ],
   "source": [
    "languages = {'telugu','english','hindi'}\n",
    "languages.discard('hindi')\n",
    "print(languages)"
   ]
  },
  {
   "cell_type": "code",
   "execution_count": 23,
   "metadata": {},
   "outputs": [
    {
     "name": "stdout",
     "output_type": "stream",
     "text": [
      "{'telugu'}\n"
     ]
    }
   ],
   "source": [
    "##Remove  remove()\n",
    "languages.remove('english')\n",
    "print(languages)"
   ]
  },
  {
   "cell_type": "markdown",
   "metadata": {},
   "source": [
    "### Python set operations :\n",
    "Python set provides difference built-in methods to perform mathematical set operations like union , intersection, subtraction and symmetric difference."
   ]
  },
  {
   "cell_type": "markdown",
   "metadata": {},
   "source": [
    "#### Union of two sets:\n",
    "The union of two sets A & B include all of the elements of setA and setB."
   ]
  },
  {
   "cell_type": "code",
   "execution_count": 30,
   "metadata": {},
   "outputs": [
    {
     "name": "stdout",
     "output_type": "stream",
     "text": [
      "{1, 2, 3, 4, 56, 9, 78}\n",
      "{1, 2, 3, 4, 56, 9, 78}\n"
     ]
    }
   ],
   "source": [
    "a = {1,2,3}\n",
    "b = {4,56,78,9}\n",
    "##Perform union operation using: union()        ####  method one \n",
    "c = a.union(b)  \n",
    "print(c)\n",
    "\n",
    "#Perform union operations using this symbol:|   #### method two\n",
    "d = a|b\n",
    "print(d)"
   ]
  },
  {
   "cell_type": "markdown",
   "metadata": {},
   "source": [
    "### Intersection:\n",
    "The intersection of two sets A & B include the common elements between A & B"
   ]
  },
  {
   "cell_type": "code",
   "execution_count": 34,
   "metadata": {},
   "outputs": [
    {
     "name": "stdout",
     "output_type": "stream",
     "text": [
      "{9, 3, 6, 15}\n",
      "{9, 3, 6, 15}\n"
     ]
    }
   ],
   "source": [
    "x = {1,3,6,9,11,13,15,17,19}\n",
    "y = {3,6,9,12,15,18,21}\n",
    "## Perform intersection operation using: intersection()      #### method one\n",
    "z = x.intersection(y)\n",
    "print(z)\n",
    "## Perform intersection operation using: &                   #### method two\n",
    "p = x&y\n",
    "print(p)"
   ]
  },
  {
   "cell_type": "markdown",
   "metadata": {},
   "source": [
    "### Difference:\n",
    "The difference between two sets A & B include elements of setA that are not present on setB.\n",
    "\n",
    "Returns elements that are in the first set but not in second."
   ]
  },
  {
   "cell_type": "code",
   "execution_count": 42,
   "metadata": {},
   "outputs": [
    {
     "name": "stdout",
     "output_type": "stream",
     "text": [
      "{2, 811, 4, 667}\n",
      "{2, 811, 4, 667}\n"
     ]
    }
   ],
   "source": [
    "m = {1,2,3,4,5,667,811}\n",
    "n = {1,3,5,668,90}\n",
    "## Perform difference operation using:'-'                     #### method one            \n",
    "print(m-n)     ##(A-B)\n",
    "\n",
    "## Perform difference operation using: difference()           #### method two\n",
    "p = m.difference(n)    ##(A-B)\n",
    "print(p)"
   ]
  },
  {
   "cell_type": "code",
   "execution_count": 43,
   "metadata": {},
   "outputs": [
    {
     "name": "stdout",
     "output_type": "stream",
     "text": [
      "{90, 668}\n",
      "{90, 668}\n"
     ]
    }
   ],
   "source": [
    "m = {1,2,3,4,5,667,811}\n",
    "n = {1,3,5,668,90}\n",
    "## Perform difference operation using:'-'                     #### method one            \n",
    "print(n-m)     ##(B-A)\n",
    "\n",
    "## Perform difference operation using: difference()           #### method two\n",
    "p = n.difference(m)    ##(B-A)\n",
    "print(p)"
   ]
  },
  {
   "cell_type": "markdown",
   "metadata": {},
   "source": [
    "### Set symmetric difference:\n",
    "The symmetric difference between two sets A & B includes all elements of A & B without the common elements.\n",
    "\n",
    "Returns elements that are neither."
   ]
  },
  {
   "cell_type": "code",
   "execution_count": 47,
   "metadata": {},
   "outputs": [
    {
     "name": "stdout",
     "output_type": "stream",
     "text": [
      "{1, 11, 12, 13, 17, 18, 19, 21}\n",
      "{1, 11, 12, 13, 17, 18, 19, 21}\n"
     ]
    }
   ],
   "source": [
    "x = {1,3,6,9,11,13,15,17,19}\n",
    "y = {3,6,9,12,15,18,21}\n",
    "## Perform symmetric difference operation using: symmetric_difference()      #### method one\n",
    "z = x.symmetric_difference(y)\n",
    "print(z)\n",
    "## Perform intersection operation using: ^                   #### method two\n",
    "p = x^y\n",
    "print(p)"
   ]
  },
  {
   "cell_type": "code",
   "execution_count": null,
   "metadata": {},
   "outputs": [],
   "source": []
  }
 ],
 "metadata": {
  "kernelspec": {
   "display_name": "Python 3",
   "language": "python",
   "name": "python3"
  },
  "language_info": {
   "codemirror_mode": {
    "name": "ipython",
    "version": 3
   },
   "file_extension": ".py",
   "mimetype": "text/x-python",
   "name": "python",
   "nbconvert_exporter": "python",
   "pygments_lexer": "ipython3",
   "version": "3.7.4"
  }
 },
 "nbformat": 4,
 "nbformat_minor": 2
}
